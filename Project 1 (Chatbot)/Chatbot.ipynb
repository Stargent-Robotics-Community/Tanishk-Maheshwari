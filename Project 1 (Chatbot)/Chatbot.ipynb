{
 "cells": [
  {
   "cell_type": "code",
   "execution_count": null,
   "id": "6c6d82d9",
   "metadata": {},
   "outputs": [
    {
     "name": "stdout",
     "output_type": "stream",
     "text": [
      "Speak Now\n"
     ]
    }
   ],
   "source": [
    "import pyttsx3\n",
    "import speech_recognition as sr\n",
    "\n",
    "a=pyttsx3.init()\n",
    "a.say('hello sir')\n",
    "a.runAndWait()\n",
    "a.setProperty('rate',150)\n",
    "\n",
    "while True:\n",
    "    try:\n",
    "        r=sr.Recognizer()\n",
    "        with sr.Microphone() as source:\n",
    "            r.adjust_for_ambient_noise(source)\n",
    "            r.pause_threshold=1\n",
    "            print('Speak Now')\n",
    "            audio=r.listen(source)\n",
    "\n",
    "        text=r.recognize_google(audio)\n",
    "        print(text)\n",
    "\n",
    "        if text=='hello what is your name':\n",
    "            a.say('my name is elon')\n",
    "            a.runAndWait()\n",
    "        elif text==\"that's a nice name\":\n",
    "            a.say('thank you sir')\n",
    "            a.runAndWait()\n",
    "        elif text=='so what can you do for me':\n",
    "            a.say('sorry sir , i am not completed yet thats why i am unable to perform any task')\n",
    "            a.runAndWait()\n",
    "        elif text=='ok no problem':\n",
    "            a.say('thank you for understanding sir')   \n",
    "            a.runAndWait()\n",
    "            \n",
    "        elif text=='exit':\n",
    "            a.say('See you later')\n",
    "            a.runAndWait()\n",
    "        exit()\n",
    "\n",
    "    except:\n",
    "        print(\"program invalid\")\n",
    "    \n",
    "else:\n",
    "    a.say('please wait')\n",
    "    a.runAndWait()"
   ]
  },
  {
   "cell_type": "code",
   "execution_count": null,
   "id": "7b4924b5",
   "metadata": {},
   "outputs": [],
   "source": []
  }
 ],
 "metadata": {
  "kernelspec": {
   "display_name": "Python 3",
   "language": "python",
   "name": "python3"
  },
  "language_info": {
   "codemirror_mode": {
    "name": "ipython",
    "version": 3
   },
   "file_extension": ".py",
   "mimetype": "text/x-python",
   "name": "python",
   "nbconvert_exporter": "python",
   "pygments_lexer": "ipython3",
   "version": "3.8.8"
  }
 },
 "nbformat": 4,
 "nbformat_minor": 5
}
